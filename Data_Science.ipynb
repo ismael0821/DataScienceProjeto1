{
  "nbformat": 4,
  "nbformat_minor": 0,
  "metadata": {
    "colab": {
      "name": "Data Science.ipynb",
      "provenance": [],
      "mount_file_id": "1x4fSEEaUNxu2XjSABL6N1Iq6oAL8XqOl",
      "authorship_tag": "ABX9TyMRNuTI+1+H0RIpzVZeis48",
      "include_colab_link": true
    },
    "kernelspec": {
      "name": "python3",
      "display_name": "Python 3"
    },
    "language_info": {
      "name": "python"
    }
  },
  "cells": [
    {
      "cell_type": "markdown",
      "metadata": {
        "id": "view-in-github",
        "colab_type": "text"
      },
      "source": [
        "<a href=\"https://colab.research.google.com/github/ismael0821/DataScienceProjeto1/blob/main/Data_Science.ipynb\" target=\"_parent\"><img src=\"https://colab.research.google.com/assets/colab-badge.svg\" alt=\"Open In Colab\"/></a>"
      ]
    },
    {
      "cell_type": "markdown",
      "source": [
        "## **Analise de Dados, DataSet de Estudo (Projeto, Colaboradores)**\n",
        "## **ALUNOS: ISMAEL ARAUJO, SÉRGIO LUCAS COUTO**"
      ],
      "metadata": {
        "id": "__tGGm8qCx22"
      }
    },
    {
      "cell_type": "code",
      "source": [
        "import pandas as pd\n",
        "import matplotlib.pyplot as plt"
      ],
      "metadata": {
        "id": "kpb5u1XbEWX0"
      },
      "execution_count": 66,
      "outputs": []
    },
    {
      "cell_type": "markdown",
      "source": [
        "## **Lendo o Arquivo Completo...**"
      ],
      "metadata": {
        "id": "Xb56Pc9WYYwN"
      }
    },
    {
      "cell_type": "code",
      "source": [
        "data = pd.read_csv('/content/drive/MyDrive/HR_comma_sep.csv')\n",
        "data.head(14999)"
      ],
      "metadata": {
        "colab": {
          "base_uri": "https://localhost:8080/",
          "height": 655
        },
        "id": "oFIVzo5ZMoXi",
        "outputId": "259f347a-b692-437e-f75c-83de212fb4a0"
      },
      "execution_count": 105,
      "outputs": [
        {
          "output_type": "execute_result",
          "data": {
            "text/plain": [
              "       satisfaction_level  last_evaluation  number_project  \\\n",
              "0                    0.38             0.53               2   \n",
              "1                    0.80             0.86               5   \n",
              "2                    0.11             0.88               7   \n",
              "3                    0.72             0.87               5   \n",
              "4                    0.37             0.52               2   \n",
              "...                   ...              ...             ...   \n",
              "14994                0.40             0.57               2   \n",
              "14995                0.37             0.48               2   \n",
              "14996                0.37             0.53               2   \n",
              "14997                0.11             0.96               6   \n",
              "14998                0.37             0.52               2   \n",
              "\n",
              "       average_montly_hours  time_spend_company  Work_accident  left  \\\n",
              "0                       157                   3              0     1   \n",
              "1                       262                   6              0     1   \n",
              "2                       272                   4              0     1   \n",
              "3                       223                   5              0     1   \n",
              "4                       159                   3              0     1   \n",
              "...                     ...                 ...            ...   ...   \n",
              "14994                   151                   3              0     1   \n",
              "14995                   160                   3              0     1   \n",
              "14996                   143                   3              0     1   \n",
              "14997                   280                   4              0     1   \n",
              "14998                   158                   3              0     1   \n",
              "\n",
              "       promotion_last_5years Departments   salary  \n",
              "0                          0        sales     low  \n",
              "1                          0        sales  medium  \n",
              "2                          0        sales  medium  \n",
              "3                          0        sales     low  \n",
              "4                          0        sales     low  \n",
              "...                      ...          ...     ...  \n",
              "14994                      0      support     low  \n",
              "14995                      0      support     low  \n",
              "14996                      0      support     low  \n",
              "14997                      0      support     low  \n",
              "14998                      0      support     low  \n",
              "\n",
              "[14999 rows x 10 columns]"
            ],
            "text/html": [
              "\n",
              "  <div id=\"df-1b1c02f6-b3cc-4047-b0aa-6ac6e3021863\">\n",
              "    <div class=\"colab-df-container\">\n",
              "      <div>\n",
              "<style scoped>\n",
              "    .dataframe tbody tr th:only-of-type {\n",
              "        vertical-align: middle;\n",
              "    }\n",
              "\n",
              "    .dataframe tbody tr th {\n",
              "        vertical-align: top;\n",
              "    }\n",
              "\n",
              "    .dataframe thead th {\n",
              "        text-align: right;\n",
              "    }\n",
              "</style>\n",
              "<table border=\"1\" class=\"dataframe\">\n",
              "  <thead>\n",
              "    <tr style=\"text-align: right;\">\n",
              "      <th></th>\n",
              "      <th>satisfaction_level</th>\n",
              "      <th>last_evaluation</th>\n",
              "      <th>number_project</th>\n",
              "      <th>average_montly_hours</th>\n",
              "      <th>time_spend_company</th>\n",
              "      <th>Work_accident</th>\n",
              "      <th>left</th>\n",
              "      <th>promotion_last_5years</th>\n",
              "      <th>Departments</th>\n",
              "      <th>salary</th>\n",
              "    </tr>\n",
              "  </thead>\n",
              "  <tbody>\n",
              "    <tr>\n",
              "      <th>0</th>\n",
              "      <td>0.38</td>\n",
              "      <td>0.53</td>\n",
              "      <td>2</td>\n",
              "      <td>157</td>\n",
              "      <td>3</td>\n",
              "      <td>0</td>\n",
              "      <td>1</td>\n",
              "      <td>0</td>\n",
              "      <td>sales</td>\n",
              "      <td>low</td>\n",
              "    </tr>\n",
              "    <tr>\n",
              "      <th>1</th>\n",
              "      <td>0.80</td>\n",
              "      <td>0.86</td>\n",
              "      <td>5</td>\n",
              "      <td>262</td>\n",
              "      <td>6</td>\n",
              "      <td>0</td>\n",
              "      <td>1</td>\n",
              "      <td>0</td>\n",
              "      <td>sales</td>\n",
              "      <td>medium</td>\n",
              "    </tr>\n",
              "    <tr>\n",
              "      <th>2</th>\n",
              "      <td>0.11</td>\n",
              "      <td>0.88</td>\n",
              "      <td>7</td>\n",
              "      <td>272</td>\n",
              "      <td>4</td>\n",
              "      <td>0</td>\n",
              "      <td>1</td>\n",
              "      <td>0</td>\n",
              "      <td>sales</td>\n",
              "      <td>medium</td>\n",
              "    </tr>\n",
              "    <tr>\n",
              "      <th>3</th>\n",
              "      <td>0.72</td>\n",
              "      <td>0.87</td>\n",
              "      <td>5</td>\n",
              "      <td>223</td>\n",
              "      <td>5</td>\n",
              "      <td>0</td>\n",
              "      <td>1</td>\n",
              "      <td>0</td>\n",
              "      <td>sales</td>\n",
              "      <td>low</td>\n",
              "    </tr>\n",
              "    <tr>\n",
              "      <th>4</th>\n",
              "      <td>0.37</td>\n",
              "      <td>0.52</td>\n",
              "      <td>2</td>\n",
              "      <td>159</td>\n",
              "      <td>3</td>\n",
              "      <td>0</td>\n",
              "      <td>1</td>\n",
              "      <td>0</td>\n",
              "      <td>sales</td>\n",
              "      <td>low</td>\n",
              "    </tr>\n",
              "    <tr>\n",
              "      <th>...</th>\n",
              "      <td>...</td>\n",
              "      <td>...</td>\n",
              "      <td>...</td>\n",
              "      <td>...</td>\n",
              "      <td>...</td>\n",
              "      <td>...</td>\n",
              "      <td>...</td>\n",
              "      <td>...</td>\n",
              "      <td>...</td>\n",
              "      <td>...</td>\n",
              "    </tr>\n",
              "    <tr>\n",
              "      <th>14994</th>\n",
              "      <td>0.40</td>\n",
              "      <td>0.57</td>\n",
              "      <td>2</td>\n",
              "      <td>151</td>\n",
              "      <td>3</td>\n",
              "      <td>0</td>\n",
              "      <td>1</td>\n",
              "      <td>0</td>\n",
              "      <td>support</td>\n",
              "      <td>low</td>\n",
              "    </tr>\n",
              "    <tr>\n",
              "      <th>14995</th>\n",
              "      <td>0.37</td>\n",
              "      <td>0.48</td>\n",
              "      <td>2</td>\n",
              "      <td>160</td>\n",
              "      <td>3</td>\n",
              "      <td>0</td>\n",
              "      <td>1</td>\n",
              "      <td>0</td>\n",
              "      <td>support</td>\n",
              "      <td>low</td>\n",
              "    </tr>\n",
              "    <tr>\n",
              "      <th>14996</th>\n",
              "      <td>0.37</td>\n",
              "      <td>0.53</td>\n",
              "      <td>2</td>\n",
              "      <td>143</td>\n",
              "      <td>3</td>\n",
              "      <td>0</td>\n",
              "      <td>1</td>\n",
              "      <td>0</td>\n",
              "      <td>support</td>\n",
              "      <td>low</td>\n",
              "    </tr>\n",
              "    <tr>\n",
              "      <th>14997</th>\n",
              "      <td>0.11</td>\n",
              "      <td>0.96</td>\n",
              "      <td>6</td>\n",
              "      <td>280</td>\n",
              "      <td>4</td>\n",
              "      <td>0</td>\n",
              "      <td>1</td>\n",
              "      <td>0</td>\n",
              "      <td>support</td>\n",
              "      <td>low</td>\n",
              "    </tr>\n",
              "    <tr>\n",
              "      <th>14998</th>\n",
              "      <td>0.37</td>\n",
              "      <td>0.52</td>\n",
              "      <td>2</td>\n",
              "      <td>158</td>\n",
              "      <td>3</td>\n",
              "      <td>0</td>\n",
              "      <td>1</td>\n",
              "      <td>0</td>\n",
              "      <td>support</td>\n",
              "      <td>low</td>\n",
              "    </tr>\n",
              "  </tbody>\n",
              "</table>\n",
              "<p>14999 rows × 10 columns</p>\n",
              "</div>\n",
              "      <button class=\"colab-df-convert\" onclick=\"convertToInteractive('df-1b1c02f6-b3cc-4047-b0aa-6ac6e3021863')\"\n",
              "              title=\"Convert this dataframe to an interactive table.\"\n",
              "              style=\"display:none;\">\n",
              "        \n",
              "  <svg xmlns=\"http://www.w3.org/2000/svg\" height=\"24px\"viewBox=\"0 0 24 24\"\n",
              "       width=\"24px\">\n",
              "    <path d=\"M0 0h24v24H0V0z\" fill=\"none\"/>\n",
              "    <path d=\"M18.56 5.44l.94 2.06.94-2.06 2.06-.94-2.06-.94-.94-2.06-.94 2.06-2.06.94zm-11 1L8.5 8.5l.94-2.06 2.06-.94-2.06-.94L8.5 2.5l-.94 2.06-2.06.94zm10 10l.94 2.06.94-2.06 2.06-.94-2.06-.94-.94-2.06-.94 2.06-2.06.94z\"/><path d=\"M17.41 7.96l-1.37-1.37c-.4-.4-.92-.59-1.43-.59-.52 0-1.04.2-1.43.59L10.3 9.45l-7.72 7.72c-.78.78-.78 2.05 0 2.83L4 21.41c.39.39.9.59 1.41.59.51 0 1.02-.2 1.41-.59l7.78-7.78 2.81-2.81c.8-.78.8-2.07 0-2.86zM5.41 20L4 18.59l7.72-7.72 1.47 1.35L5.41 20z\"/>\n",
              "  </svg>\n",
              "      </button>\n",
              "      \n",
              "  <style>\n",
              "    .colab-df-container {\n",
              "      display:flex;\n",
              "      flex-wrap:wrap;\n",
              "      gap: 12px;\n",
              "    }\n",
              "\n",
              "    .colab-df-convert {\n",
              "      background-color: #E8F0FE;\n",
              "      border: none;\n",
              "      border-radius: 50%;\n",
              "      cursor: pointer;\n",
              "      display: none;\n",
              "      fill: #1967D2;\n",
              "      height: 32px;\n",
              "      padding: 0 0 0 0;\n",
              "      width: 32px;\n",
              "    }\n",
              "\n",
              "    .colab-df-convert:hover {\n",
              "      background-color: #E2EBFA;\n",
              "      box-shadow: 0px 1px 2px rgba(60, 64, 67, 0.3), 0px 1px 3px 1px rgba(60, 64, 67, 0.15);\n",
              "      fill: #174EA6;\n",
              "    }\n",
              "\n",
              "    [theme=dark] .colab-df-convert {\n",
              "      background-color: #3B4455;\n",
              "      fill: #D2E3FC;\n",
              "    }\n",
              "\n",
              "    [theme=dark] .colab-df-convert:hover {\n",
              "      background-color: #434B5C;\n",
              "      box-shadow: 0px 1px 3px 1px rgba(0, 0, 0, 0.15);\n",
              "      filter: drop-shadow(0px 1px 2px rgba(0, 0, 0, 0.3));\n",
              "      fill: #FFFFFF;\n",
              "    }\n",
              "  </style>\n",
              "\n",
              "      <script>\n",
              "        const buttonEl =\n",
              "          document.querySelector('#df-1b1c02f6-b3cc-4047-b0aa-6ac6e3021863 button.colab-df-convert');\n",
              "        buttonEl.style.display =\n",
              "          google.colab.kernel.accessAllowed ? 'block' : 'none';\n",
              "\n",
              "        async function convertToInteractive(key) {\n",
              "          const element = document.querySelector('#df-1b1c02f6-b3cc-4047-b0aa-6ac6e3021863');\n",
              "          const dataTable =\n",
              "            await google.colab.kernel.invokeFunction('convertToInteractive',\n",
              "                                                     [key], {});\n",
              "          if (!dataTable) return;\n",
              "\n",
              "          const docLinkHtml = 'Like what you see? Visit the ' +\n",
              "            '<a target=\"_blank\" href=https://colab.research.google.com/notebooks/data_table.ipynb>data table notebook</a>'\n",
              "            + ' to learn more about interactive tables.';\n",
              "          element.innerHTML = '';\n",
              "          dataTable['output_type'] = 'display_data';\n",
              "          await google.colab.output.renderOutput(dataTable, element);\n",
              "          const docLink = document.createElement('div');\n",
              "          docLink.innerHTML = docLinkHtml;\n",
              "          element.appendChild(docLink);\n",
              "        }\n",
              "      </script>\n",
              "    </div>\n",
              "  </div>\n",
              "  "
            ]
          },
          "metadata": {},
          "execution_count": 105
        }
      ]
    },
    {
      "cell_type": "markdown",
      "source": [
        "## **Quantidade de Colaboradores por Tópico**"
      ],
      "metadata": {
        "id": "-n8CWHo1cK_b"
      }
    },
    {
      "cell_type": "code",
      "source": [
        "num_projetos = data.groupby('number_project').count()\n",
        "print('Número total de Colaboradores é: ', num_projetos)"
      ],
      "metadata": {
        "colab": {
          "base_uri": "https://localhost:8080/"
        },
        "id": "gAbTq7dZ6WXP",
        "outputId": "dce7c838-526e-4407-b55c-780fe836f38d"
      },
      "execution_count": 106,
      "outputs": [
        {
          "output_type": "stream",
          "name": "stdout",
          "text": [
            "Número total de Colaboradores é:                  satisfaction_level  last_evaluation  average_montly_hours  \\\n",
            "number_project                                                              \n",
            "2                             2388             2388                  2388   \n",
            "3                             4055             4055                  4055   \n",
            "4                             4365             4365                  4365   \n",
            "5                             2761             2761                  2761   \n",
            "6                             1174             1174                  1174   \n",
            "7                              256              256                   256   \n",
            "\n",
            "                time_spend_company  Work_accident  left  \\\n",
            "number_project                                            \n",
            "2                             2388           2388  2388   \n",
            "3                             4055           4055  4055   \n",
            "4                             4365           4365  4365   \n",
            "5                             2761           2761  2761   \n",
            "6                             1174           1174  1174   \n",
            "7                              256            256   256   \n",
            "\n",
            "                promotion_last_5years  Departments   salary  \n",
            "number_project                                               \n",
            "2                                2388          2388    2388  \n",
            "3                                4055          4055    4055  \n",
            "4                                4365          4365    4365  \n",
            "5                                2761          2761    2761  \n",
            "6                                1174          1174    1174  \n",
            "7                                 256           256     256  \n"
          ]
        }
      ]
    },
    {
      "cell_type": "markdown",
      "source": [
        "## **Sequência numérica dos Projetos**"
      ],
      "metadata": {
        "id": "XhBY2O1W8OCA"
      }
    },
    {
      "cell_type": "code",
      "source": [
        "num_projetos = data['number_project']\n",
        "print(num_projetos)"
      ],
      "metadata": {
        "colab": {
          "base_uri": "https://localhost:8080/"
        },
        "id": "WYfSkG0fXDhH",
        "outputId": "50293c9c-b9c8-4a6c-aa3e-b490b5969db9"
      },
      "execution_count": 107,
      "outputs": [
        {
          "output_type": "stream",
          "name": "stdout",
          "text": [
            "0        2\n",
            "1        5\n",
            "2        7\n",
            "3        5\n",
            "4        2\n",
            "        ..\n",
            "14994    2\n",
            "14995    2\n",
            "14996    2\n",
            "14997    6\n",
            "14998    2\n",
            "Name: number_project, Length: 14999, dtype: int64\n"
          ]
        }
      ]
    },
    {
      "cell_type": "markdown",
      "source": [
        "## **Média dos Projetos por Tópico**"
      ],
      "metadata": {
        "id": "x9cYLZNOczHO"
      }
    },
    {
      "cell_type": "code",
      "source": [
        "media_projetos = data['number_project'].mean()\n",
        "print('A Média de projetos feitos é: ', media_projetos)"
      ],
      "metadata": {
        "colab": {
          "base_uri": "https://localhost:8080/"
        },
        "id": "6CakGRd1dAup",
        "outputId": "0ff18802-c48b-4b09-f9c8-d2ac2ee70031"
      },
      "execution_count": 109,
      "outputs": [
        {
          "output_type": "stream",
          "name": "stdout",
          "text": [
            "A Média de projetos feitos é:  3.80305353690246\n"
          ]
        }
      ]
    },
    {
      "cell_type": "markdown",
      "source": [
        "## **Menor Número de Projetos**"
      ],
      "metadata": {
        "id": "tmYj8youqml8"
      }
    },
    {
      "cell_type": "code",
      "source": [
        "minímo_projetos = data['number_project'].min()\n",
        "print('Qual é o menor número de projetos: ', minímo_projetos)"
      ],
      "metadata": {
        "colab": {
          "base_uri": "https://localhost:8080/"
        },
        "id": "n260aFUxq-nQ",
        "outputId": "ca240608-1d8e-4092-a9bf-be85034d0813"
      },
      "execution_count": 110,
      "outputs": [
        {
          "output_type": "stream",
          "name": "stdout",
          "text": [
            "Qual é o menor número de projetos:  2\n"
          ]
        }
      ]
    },
    {
      "cell_type": "markdown",
      "source": [
        "## **Maior Número de Projetos**"
      ],
      "metadata": {
        "id": "5h2x1MYs12so"
      }
    },
    {
      "cell_type": "code",
      "source": [
        "máximo_projetos = data['number_project'].max()\n",
        "print('O maior número de projetos é: ', máximo_projetos)"
      ],
      "metadata": {
        "colab": {
          "base_uri": "https://localhost:8080/"
        },
        "id": "0lPezBNx19m1",
        "outputId": "cbcc4b99-1f12-45db-eb46-82d8e00f0821"
      },
      "execution_count": 112,
      "outputs": [
        {
          "output_type": "stream",
          "name": "stdout",
          "text": [
            "O maior número de projetos é:  7\n"
          ]
        }
      ]
    },
    {
      "cell_type": "markdown",
      "source": [
        "## **Maior Número de Colaboradores por Tópico (top 5)**"
      ],
      "metadata": {
        "id": "MkSs2CNO9wU6"
      }
    },
    {
      "cell_type": "code",
      "source": [
        "data['number_project'].value_counts().head()"
      ],
      "metadata": {
        "colab": {
          "base_uri": "https://localhost:8080/"
        },
        "id": "zJDfylwE9F1m",
        "outputId": "6c72575f-7fe8-4307-e0be-cc500cdf42a8"
      },
      "execution_count": 100,
      "outputs": [
        {
          "output_type": "execute_result",
          "data": {
            "text/plain": [
              "4    4365\n",
              "3    4055\n",
              "5    2761\n",
              "2    2388\n",
              "6    1174\n",
              "Name: number_project, dtype: int64"
            ]
          },
          "metadata": {},
          "execution_count": 100
        }
      ]
    },
    {
      "cell_type": "code",
      "source": [
        "num_projetos = data.groupby('number_project').count()\n",
        "plt.bar(num_projetos.index.values, num_projetos['satisfaction_level'])\n",
        "plt.xlabel('Número de Projetos ')\n",
        "plt.ylabel('Número de Colaboradores ')\n",
        "plt.show()"
      ],
      "metadata": {
        "colab": {
          "base_uri": "https://localhost:8080/",
          "height": 280
        },
        "id": "cB5gzvZU-dGY",
        "outputId": "4a8321ec-c001-4baa-d4e0-29b268c4c2f6"
      },
      "execution_count": 113,
      "outputs": [
        {
          "output_type": "display_data",
          "data": {
            "text/plain": [
              "<Figure size 432x288 with 1 Axes>"
            ],
            "image/png": "[encoded data removed]"
          },
          "metadata": {
            "needs_background": "light"
          }
        }
      ]
    },
    {
      "cell_type": "markdown",
      "source": [
        "## **Frequência de Colaboradores**"
      ],
      "metadata": {
        "id": "Z4mN-1_RQpPb"
      }
    },
    {
      "cell_type": "code",
      "source": [
        "data['number_project'].value_counts().plot(kind='hist')\n",
        "plt.show()"
      ],
      "metadata": {
        "colab": {
          "base_uri": "https://localhost:8080/",
          "height": 265
        },
        "id": "YsLaLRg9AX6r",
        "outputId": "168da3b0-ea5a-4067-f781-5aa10d2747ef"
      },
      "execution_count": 114,
      "outputs": [
        {
          "output_type": "display_data",
          "data": {
            "text/plain": [
              "<Figure size 432x288 with 1 Axes>"
            ],
            "image/png": "[encoded data removed]"
          },
          "metadata": {
            "needs_background": "light"
          }
        }
      ]
    },
    {
      "cell_type": "markdown",
      "source": [
        "## **Nível de Gastos salariais por projeto**"
      ],
      "metadata": {
        "id": "neDbykikQAhz"
      }
    },
    {
      "cell_type": "code",
      "source": [
        "data.groupby('number_project').count()['salary'].plot()\n",
        "plt.xlabel('Número de Projetos ')\n",
        "plt.ylabel('Gastos salariais (Mínimo) ')\n",
        "plt.tight_layout()"
      ],
      "metadata": {
        "colab": {
          "base_uri": "https://localhost:8080/",
          "height": 297
        },
        "id": "I85UbBcXPVLd",
        "outputId": "b27daa5e-d6e9-4b5d-c415-c0ab8827622c"
      },
      "execution_count": 115,
      "outputs": [
        {
          "output_type": "display_data",
          "data": {
            "text/plain": [
              "<Figure size 432x288 with 1 Axes>"
            ],
            "image/png": "[encoded data removed]"
          },
          "metadata": {
            "needs_background": "light"
          }
        }
      ]
    }
  ]
}